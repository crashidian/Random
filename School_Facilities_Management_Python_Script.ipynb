{
  "nbformat": 4,
  "nbformat_minor": 0,
  "metadata": {
    "colab": {
      "provenance": [],
      "authorship_tag": "ABX9TyPUITipsa0THo17bsUq8Y8h",
      "include_colab_link": true
    },
    "kernelspec": {
      "name": "python3",
      "display_name": "Python 3"
    },
    "language_info": {
      "name": "python"
    }
  },
  "cells": [
    {
      "cell_type": "markdown",
      "metadata": {
        "id": "view-in-github",
        "colab_type": "text"
      },
      "source": [
        "<a href=\"https://colab.research.google.com/github/crashidian/Random/blob/main/School_Facilities_Management_Python_Script.ipynb\" target=\"_parent\"><img src=\"https://colab.research.google.com/assets/colab-badge.svg\" alt=\"Open In Colab\"/></a>"
      ]
    },
    {
      "cell_type": "code",
      "execution_count": null,
      "metadata": {
        "id": "0-81olZQ8MoB"
      },
      "outputs": [],
      "source": [
        "import pandas as pd\n",
        "import numpy as np\n",
        "from sklearn.cluster import KMeans\n",
        "from sklearn.tree import DecisionTreeRegressor, DecisionTreeClassifier\n",
        "from sklearn.ensemble import RandomForestClassifier\n",
        "from sklearn.preprocessing import StandardScaler\n",
        "from sklearn.model_selection import train_test_split"
      ]
    },
    {
      "cell_type": "code",
      "source": [
        "class SchoolFacilitiesManagement:\n",
        "    def __init__(self):\n",
        "        self.facilities_data = None\n",
        "        self.enrollment_data = None\n",
        "        self.adequacy_data = None\n",
        "\n",
        "    def load_data(self):\n",
        "        # Simulating data loading\n",
        "        self.facilities_data = pd.DataFrame({\n",
        "            'facility_id': range(1, 101),\n",
        "            'size': np.random.randint(10000, 100000, 100),\n",
        "            'age': np.random.randint(1, 50, 100),\n",
        "            'condition_score': np.random.randint(1, 10, 100)\n",
        "        })\n",
        "\n",
        "        self.enrollment_data = pd.DataFrame({\n",
        "            'year': range(2010, 2024),\n",
        "            'enrollment': np.random.randint(5000, 10000, 14)\n",
        "        })\n",
        "\n",
        "        self.adequacy_data = pd.DataFrame({\n",
        "            'facility_id': range(1, 101),\n",
        "            'tech_score': np.random.randint(1, 10, 100),\n",
        "            'space_score': np.random.randint(1, 10, 100),\n",
        "            'safety_score': np.random.randint(1, 10, 100)\n",
        "        })\n",
        "\n",
        "    def facilities_assessment(self):\n",
        "        # K-means clustering for facility groups\n",
        "        features = self.facilities_data[['size', 'age', 'condition_score']]\n",
        "        scaler = StandardScaler()\n",
        "        features_scaled = scaler.fit_transform(features)\n",
        "\n",
        "        kmeans = KMeans(n_clusters=3, random_state=42)\n",
        "        self.facilities_data['cluster'] = kmeans.fit_predict(features_scaled)\n",
        "\n",
        "        print(\"Facilities grouped into clusters:\")\n",
        "        print(self.facilities_data['cluster'].value_counts())\n",
        "\n",
        "    def enrollment_projection(self):\n",
        "        # Decision Tree for enrollment projection\n",
        "        X = self.enrollment_data[['year']]\n",
        "        y = self.enrollment_data['enrollment']\n",
        "\n",
        "        model = DecisionTreeRegressor(random_state=42)\n",
        "        model.fit(X, y)\n",
        "\n",
        "        future_years = pd.DataFrame({'year': range(2024, 2030)})\n",
        "        projected_enrollment = model.predict(future_years)\n",
        "\n",
        "        print(\"\\nProjected enrollment for 2024-2029:\")\n",
        "        print(projected_enrollment)\n",
        "\n",
        "    def educational_adequacy_assessment(self):\n",
        "        # Random Forest for identifying improvement areas\n",
        "        X = self.adequacy_data[['tech_score', 'space_score', 'safety_score']]\n",
        "        y = (X.mean(axis=1) < 5).astype(int)  # Simplified adequacy threshold\n",
        "\n",
        "        X_train, X_test, y_train, y_test = train_test_split(X, y, test_size=0.2, random_state=42)\n",
        "\n",
        "        model = RandomForestClassifier(random_state=42)\n",
        "        model.fit(X_train, y_train)\n",
        "\n",
        "        importance = model.feature_importances_\n",
        "        for feature, importance in zip(X.columns, importance):\n",
        "            print(f\"\\n{feature} importance: {importance}\")\n",
        "\n",
        "    def project_prioritization(self):\n",
        "        # Decision Tree for project prioritization\n",
        "        self.facilities_data['priority_score'] = (\n",
        "            self.facilities_data['condition_score'] * 0.5 +\n",
        "            self.facilities_data['age'] * 0.3 +\n",
        "            self.facilities_data['cluster'] * 0.2\n",
        "        )\n",
        "\n",
        "        X = self.facilities_data[['priority_score']]\n",
        "        y = pd.qcut(self.facilities_data['priority_score'], q=3, labels=['Low', 'Medium', 'High'])\n",
        "\n",
        "        model = DecisionTreeClassifier(random_state=42)\n",
        "        model.fit(X, y)\n",
        "\n",
        "        self.facilities_data['priority'] = model.predict(X)\n",
        "\n",
        "        print(\"\\nProject priorities:\")\n",
        "        print(self.facilities_data['priority'].value_counts())\n",
        "\n",
        "    def run_management_process(self):\n",
        "        print(\"Starting School Facilities Management Process\")\n",
        "        self.load_data()\n",
        "        self.facilities_assessment()\n",
        "        self.enrollment_projection()\n",
        "        self.educational_adequacy_assessment()\n",
        "        self.project_prioritization()\n",
        "        print(\"\\nSchool Facilities Management Process Completed\")"
      ],
      "metadata": {
        "id": "_cYKhboF8RRS"
      },
      "execution_count": null,
      "outputs": []
    },
    {
      "cell_type": "code",
      "source": [
        "# Run the process\n",
        "manager = SchoolFacilitiesManagement()\n",
        "manager.run_management_process()"
      ],
      "metadata": {
        "id": "MBJgOJLc8W7A",
        "outputId": "ff616b39-bcc6-44b7-cc37-256ae80646c7",
        "colab": {
          "base_uri": "https://localhost:8080/"
        }
      },
      "execution_count": null,
      "outputs": [
        {
          "output_type": "stream",
          "name": "stdout",
          "text": [
            "Starting School Facilities Management Process\n"
          ]
        },
        {
          "output_type": "stream",
          "name": "stderr",
          "text": [
            "/usr/local/lib/python3.10/dist-packages/sklearn/cluster/_kmeans.py:870: FutureWarning: The default value of `n_init` will change from 10 to 'auto' in 1.4. Set the value of `n_init` explicitly to suppress the warning\n",
            "  warnings.warn(\n"
          ]
        },
        {
          "output_type": "stream",
          "name": "stdout",
          "text": [
            "Facilities grouped into clusters:\n",
            "cluster\n",
            "2    36\n",
            "1    33\n",
            "0    31\n",
            "Name: count, dtype: int64\n",
            "\n",
            "Projected enrollment for 2024-2029:\n",
            "[5563. 5563. 5563. 5563. 5563. 5563.]\n",
            "\n",
            "tech_score importance: 0.34868090011213265\n",
            "\n",
            "space_score importance: 0.22568279106628025\n",
            "\n",
            "safety_score importance: 0.42563630882158704\n",
            "\n",
            "Project priorities:\n",
            "priority\n",
            "Low       35\n",
            "High      33\n",
            "Medium    32\n",
            "Name: count, dtype: int64\n",
            "\n",
            "School Facilities Management Process Completed\n"
          ]
        }
      ]
    }
  ]
}