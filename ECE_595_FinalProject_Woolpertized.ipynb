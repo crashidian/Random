{
  "nbformat": 4,
  "nbformat_minor": 0,
  "metadata": {
    "colab": {
      "provenance": [],
      "authorship_tag": "ABX9TyM5A0b8EwdMLhOjdcT/HdGF",
      "include_colab_link": true
    },
    "kernelspec": {
      "name": "python3",
      "display_name": "Python 3"
    },
    "language_info": {
      "name": "python"
    }
  },
  "cells": [
    {
      "cell_type": "markdown",
      "metadata": {
        "id": "view-in-github",
        "colab_type": "text"
      },
      "source": [
        "<a href=\"https://colab.research.google.com/github/crashidian/Random/blob/main/ECE_595_FinalProject_Woolpertized.ipynb\" target=\"_parent\"><img src=\"https://colab.research.google.com/assets/colab-badge.svg\" alt=\"Open In Colab\"/></a>"
      ]
    },
    {
      "cell_type": "code",
      "execution_count": 7,
      "metadata": {
        "id": "CTQoNiqOJlF9"
      },
      "outputs": [],
      "source": [
        "import pandas as pd\n",
        "import numpy as np\n",
        "from sklearn.cluster import KMeans\n",
        "from sklearn.preprocessing import StandardScaler\n",
        "from sklearn.tree import DecisionTreeClassifier\n",
        "from sklearn.model_selection import train_test_split\n",
        "from sklearn.metrics import accuracy_score\n",
        "import matplotlib.pyplot as plt"
      ]
    },
    {
      "cell_type": "code",
      "source": [
        "class EducationalFacilityManagementSystem:\n",
        "    def __init__(self):\n",
        "        self.facility_data = None\n",
        "        self.financial_data = None\n",
        "        self.community_data = None\n",
        "        self.fci_clusters = None\n",
        "        self.budget_model = None\n",
        "        self.work_orders = []\n",
        "        self.bond_projects = []\n",
        "\n",
        "    def load_data(self, facility_file, financial_file, community_file):\n",
        "        \"\"\"Load data from CSV files.\"\"\"\n",
        "        self.facility_data = pd.read_csv(facility_file)\n",
        "        self.financial_data = pd.read_csv(financial_file)\n",
        "        self.community_data = pd.read_csv(community_file)\n",
        "        print(\"Data loaded successfully.\")\n",
        "\n",
        "    def preprocess_data(self):\n",
        "        \"\"\"Preprocess the data for analysis.\"\"\"\n",
        "        # Handle missing values\n",
        "        self.facility_data = self.facility_data.dropna()\n",
        "        self.financial_data = self.financial_data.dropna()\n",
        "        self.community_data = self.community_data.dropna()\n",
        "\n",
        "        # Normalize numerical features\n",
        "        scaler = StandardScaler()\n",
        "        self.facility_data[['fci', 'age', 'capacity']] = scaler.fit_transform(\n",
        "            self.facility_data[['fci', 'age', 'capacity']])\n",
        "        self.financial_data[['budget', 'actual_cost']] = scaler.fit_transform(\n",
        "            self.financial_data[['budget', 'actual_cost']])\n",
        "\n",
        "        print(\"Data preprocessing completed.\")\n",
        "\n",
        "    def equity_evaluation(self, n_clusters=3):\n",
        "        \"\"\"Perform equity evaluation using FCI disparity clustering.\"\"\"\n",
        "        kmeans = KMeans(n_clusters=n_clusters, random_state=42)\n",
        "        self.fci_clusters = kmeans.fit_predict(\n",
        "            self.facility_data[['fci', 'region_code']])\n",
        "        self.facility_data['fci_cluster'] = self.fci_clusters\n",
        "        print(\"Equity evaluation completed.\")\n",
        "\n",
        "    def local_vetting(self, region):\n",
        "        \"\"\"Simulate local vetting process for a given region.\"\"\"\n",
        "        regional_data = self.facility_data[self.facility_data['region_code'] == region]\n",
        "        print(f\"Local vetting for region {region}:\")\n",
        "        for _, facility in regional_data.iterrows():\n",
        "            print(f\"Facility {facility['id']}: Estimated budget ${facility['estimated_budget']:.2f}\")\n",
        "        print(\"Local vetting completed. Budgets refined based on contractor feedback.\")\n",
        "\n",
        "    def implement_work_order_system(self):\n",
        "        \"\"\"Implement a basic work order system.\"\"\"\n",
        "        for _, facility in self.facility_data.iterrows():\n",
        "            if facility['fci'] > 0.3:  # Assume FCI > 0.3 requires immediate attention\n",
        "                work_order = {\n",
        "                    'facility_id': facility['id'],\n",
        "                    'description': f\"Address high FCI ({facility['fci']:.2f})\",\n",
        "                    'estimated_cost': facility['estimated_budget'],\n",
        "                    'status': 'Pending'\n",
        "                }\n",
        "                self.work_orders.append(work_order)\n",
        "        print(f\"{len(self.work_orders)} work orders created.\")\n",
        "\n",
        "    def community_engagement(self, region):\n",
        "        \"\"\"Simulate community engagement process for a region.\"\"\"\n",
        "        regional_data = self.facility_data[self.facility_data['region_code'] == region]\n",
        "        print(f\"Community engagement for region {region}:\")\n",
        "        for _, facility in regional_data.iterrows():\n",
        "            print(f\"Facility {facility['id']}: FCI {facility['fci']:.2f}\")\n",
        "        print(\"Community engagement completed. Awareness raised on district state.\")\n",
        "\n",
        "    def enrollment_projections(self):\n",
        "        \"\"\"Simulate enrollment projections.\"\"\"\n",
        "        for _, facility in self.facility_data.iterrows():\n",
        "            projected_enrollment = facility['current_enrollment'] * (1 + np.random.uniform(-0.05, 0.1))\n",
        "            self.facility_data.loc[self.facility_data['id'] == facility['id'], 'projected_enrollment'] = projected_enrollment\n",
        "        print(\"Enrollment projections completed and integrated into MFI.\")\n",
        "\n",
        "    def bond_implementation(self, bond_amount):\n",
        "        \"\"\"Simulate bond implementation process.\"\"\"\n",
        "        remaining_amount = bond_amount\n",
        "        for _, facility in self.facility_data.sort_values('fci', ascending=False).iterrows():\n",
        "            if remaining_amount > 0:\n",
        "                project_cost = min(facility['estimated_budget'], remaining_amount)\n",
        "                self.bond_projects.append({\n",
        "                    'facility_id': facility['id'],\n",
        "                    'cost': project_cost,\n",
        "                    'description': f\"Improvement project for facility {facility['id']}\"\n",
        "                })\n",
        "                remaining_amount -= project_cost\n",
        "        print(f\"Bond implementation completed. {len(self.bond_projects)} projects planned.\")\n",
        "\n",
        "    def create_bond_dashboard(self):\n",
        "        \"\"\"Create a simple bond dashboard.\"\"\"\n",
        "        dashboard = pd.DataFrame(self.bond_projects)\n",
        "        print(\"Bond Dashboard:\")\n",
        "        print(dashboard.groupby('facility_id')['cost'].sum())\n",
        "        print(\"Total bond spending:\", dashboard['cost'].sum())\n",
        "\n",
        "    def energy_benchmarking(self):\n",
        "        \"\"\"Simulate energy benchmarking process.\"\"\"\n",
        "        self.facility_data['energy_usage'] = np.random.uniform(50, 150, size=len(self.facility_data))\n",
        "        print(\"Energy benchmarking completed.\")\n",
        "        print(\"Average energy usage:\", self.facility_data['energy_usage'].mean())\n",
        "\n",
        "    def post_occupancy_survey(self, facility_id):\n",
        "        \"\"\"Simulate post-occupancy survey for a facility.\"\"\"\n",
        "        print(f\"Post-occupancy survey for facility {facility_id}:\")\n",
        "        satisfaction_score = np.random.uniform(3, 5)\n",
        "        favorite_feature = np.random.choice([\"New classrooms\", \"Modern technology\", \"Improved lighting\", \"Better ventilation\"])\n",
        "        print(f\"Satisfaction score: {satisfaction_score:.2f}/5\")\n",
        "        print(f\"Favorite feature: {favorite_feature}\")\n",
        "        print(\"Survey completed. Results will inform future planning and assessments.\")\n",
        "\n",
        "    def update_mfi(self):\n",
        "        \"\"\"Update Master Facility Index.\"\"\"\n",
        "        self.facility_data['fci'] = self.facility_data['fci'] * np.random.uniform(0.8, 1.0, size=len(self.facility_data))\n",
        "        print(\"Master Facility Index updated with latest assessment data.\")"
      ],
      "metadata": {
        "id": "BYWoKyQZJsVE"
      },
      "execution_count": 8,
      "outputs": []
    },
    {
      "cell_type": "code",
      "source": [
        "# Usage example\n",
        "efms = EducationalFacilityManagementSystem()"
      ],
      "metadata": {
        "id": "mFZvm9jmJ2KJ"
      },
      "execution_count": 9,
      "outputs": []
    },
    {
      "cell_type": "code",
      "source": [
        "# Note: You would need to replace these with actual CSV files containing your data\n",
        "efms.load_data('facility_data.csv', 'financial_data.csv', 'community_data.csv')\n",
        "efms.preprocess_data()\n",
        "efms.equity_evaluation()\n",
        "efms.local_vetting(region=1)\n",
        "efms.implement_work_order_system()\n",
        "efms.community_engagement(region=1)\n",
        "efms.enrollment_projections()\n",
        "efms.bond_implementation(bond_amount=10000000)\n",
        "efms.create_bond_dashboard()\n",
        "efms.energy_benchmarking()\n",
        "efms.post_occupancy_survey(facility_id=1)\n",
        "efms.update_mfi()"
      ],
      "metadata": {
        "id": "R6r-ek6oJ9W8",
        "outputId": "89e90de0-c450-4ac2-8983-8e3a76ec94c2",
        "colab": {
          "base_uri": "https://localhost:8080/",
          "height": 356
        }
      },
      "execution_count": 10,
      "outputs": [
        {
          "output_type": "error",
          "ename": "FileNotFoundError",
          "evalue": "[Errno 2] No such file or directory: 'facility_data.csv'",
          "traceback": [
            "\u001b[0;31m---------------------------------------------------------------------------\u001b[0m",
            "\u001b[0;31mFileNotFoundError\u001b[0m                         Traceback (most recent call last)",
            "\u001b[0;32m<ipython-input-10-3b92afa42e1f>\u001b[0m in \u001b[0;36m<cell line: 2>\u001b[0;34m()\u001b[0m\n\u001b[1;32m      1\u001b[0m \u001b[0;31m# Note: You would need to replace these with actual CSV files containing your data\u001b[0m\u001b[0;34m\u001b[0m\u001b[0;34m\u001b[0m\u001b[0m\n\u001b[0;32m----> 2\u001b[0;31m \u001b[0mefms\u001b[0m\u001b[0;34m.\u001b[0m\u001b[0mload_data\u001b[0m\u001b[0;34m(\u001b[0m\u001b[0;34m'facility_data.csv'\u001b[0m\u001b[0;34m,\u001b[0m \u001b[0;34m'financial_data.csv'\u001b[0m\u001b[0;34m,\u001b[0m \u001b[0;34m'community_data.csv'\u001b[0m\u001b[0;34m)\u001b[0m\u001b[0;34m\u001b[0m\u001b[0;34m\u001b[0m\u001b[0m\n\u001b[0m\u001b[1;32m      3\u001b[0m \u001b[0mefms\u001b[0m\u001b[0;34m.\u001b[0m\u001b[0mpreprocess_data\u001b[0m\u001b[0;34m(\u001b[0m\u001b[0;34m)\u001b[0m\u001b[0;34m\u001b[0m\u001b[0;34m\u001b[0m\u001b[0m\n\u001b[1;32m      4\u001b[0m \u001b[0mefms\u001b[0m\u001b[0;34m.\u001b[0m\u001b[0mequity_evaluation\u001b[0m\u001b[0;34m(\u001b[0m\u001b[0;34m)\u001b[0m\u001b[0;34m\u001b[0m\u001b[0;34m\u001b[0m\u001b[0m\n\u001b[1;32m      5\u001b[0m \u001b[0mefms\u001b[0m\u001b[0;34m.\u001b[0m\u001b[0mlocal_vetting\u001b[0m\u001b[0;34m(\u001b[0m\u001b[0mregion\u001b[0m\u001b[0;34m=\u001b[0m\u001b[0;36m1\u001b[0m\u001b[0;34m)\u001b[0m\u001b[0;34m\u001b[0m\u001b[0;34m\u001b[0m\u001b[0m\n",
            "\u001b[0;32m<ipython-input-8-77a471b51ed9>\u001b[0m in \u001b[0;36mload_data\u001b[0;34m(self, facility_file, financial_file, community_file)\u001b[0m\n\u001b[1;32m     11\u001b[0m     \u001b[0;32mdef\u001b[0m \u001b[0mload_data\u001b[0m\u001b[0;34m(\u001b[0m\u001b[0mself\u001b[0m\u001b[0;34m,\u001b[0m \u001b[0mfacility_file\u001b[0m\u001b[0;34m,\u001b[0m \u001b[0mfinancial_file\u001b[0m\u001b[0;34m,\u001b[0m \u001b[0mcommunity_file\u001b[0m\u001b[0;34m)\u001b[0m\u001b[0;34m:\u001b[0m\u001b[0;34m\u001b[0m\u001b[0;34m\u001b[0m\u001b[0m\n\u001b[1;32m     12\u001b[0m         \u001b[0;34m\"\"\"Load data from CSV files.\"\"\"\u001b[0m\u001b[0;34m\u001b[0m\u001b[0;34m\u001b[0m\u001b[0m\n\u001b[0;32m---> 13\u001b[0;31m         \u001b[0mself\u001b[0m\u001b[0;34m.\u001b[0m\u001b[0mfacility_data\u001b[0m \u001b[0;34m=\u001b[0m \u001b[0mpd\u001b[0m\u001b[0;34m.\u001b[0m\u001b[0mread_csv\u001b[0m\u001b[0;34m(\u001b[0m\u001b[0mfacility_file\u001b[0m\u001b[0;34m)\u001b[0m\u001b[0;34m\u001b[0m\u001b[0;34m\u001b[0m\u001b[0m\n\u001b[0m\u001b[1;32m     14\u001b[0m         \u001b[0mself\u001b[0m\u001b[0;34m.\u001b[0m\u001b[0mfinancial_data\u001b[0m \u001b[0;34m=\u001b[0m \u001b[0mpd\u001b[0m\u001b[0;34m.\u001b[0m\u001b[0mread_csv\u001b[0m\u001b[0;34m(\u001b[0m\u001b[0mfinancial_file\u001b[0m\u001b[0;34m)\u001b[0m\u001b[0;34m\u001b[0m\u001b[0;34m\u001b[0m\u001b[0m\n\u001b[1;32m     15\u001b[0m         \u001b[0mself\u001b[0m\u001b[0;34m.\u001b[0m\u001b[0mcommunity_data\u001b[0m \u001b[0;34m=\u001b[0m \u001b[0mpd\u001b[0m\u001b[0;34m.\u001b[0m\u001b[0mread_csv\u001b[0m\u001b[0;34m(\u001b[0m\u001b[0mcommunity_file\u001b[0m\u001b[0;34m)\u001b[0m\u001b[0;34m\u001b[0m\u001b[0;34m\u001b[0m\u001b[0m\n",
            "\u001b[0;32m/usr/local/lib/python3.10/dist-packages/pandas/io/parsers/readers.py\u001b[0m in \u001b[0;36mread_csv\u001b[0;34m(filepath_or_buffer, sep, delimiter, header, names, index_col, usecols, dtype, engine, converters, true_values, false_values, skipinitialspace, skiprows, skipfooter, nrows, na_values, keep_default_na, na_filter, verbose, skip_blank_lines, parse_dates, infer_datetime_format, keep_date_col, date_parser, date_format, dayfirst, cache_dates, iterator, chunksize, compression, thousands, decimal, lineterminator, quotechar, quoting, doublequote, escapechar, comment, encoding, encoding_errors, dialect, on_bad_lines, delim_whitespace, low_memory, memory_map, float_precision, storage_options, dtype_backend)\u001b[0m\n\u001b[1;32m    910\u001b[0m     \u001b[0mkwds\u001b[0m\u001b[0;34m.\u001b[0m\u001b[0mupdate\u001b[0m\u001b[0;34m(\u001b[0m\u001b[0mkwds_defaults\u001b[0m\u001b[0;34m)\u001b[0m\u001b[0;34m\u001b[0m\u001b[0;34m\u001b[0m\u001b[0m\n\u001b[1;32m    911\u001b[0m \u001b[0;34m\u001b[0m\u001b[0m\n\u001b[0;32m--> 912\u001b[0;31m     \u001b[0;32mreturn\u001b[0m \u001b[0m_read\u001b[0m\u001b[0;34m(\u001b[0m\u001b[0mfilepath_or_buffer\u001b[0m\u001b[0;34m,\u001b[0m \u001b[0mkwds\u001b[0m\u001b[0;34m)\u001b[0m\u001b[0;34m\u001b[0m\u001b[0;34m\u001b[0m\u001b[0m\n\u001b[0m\u001b[1;32m    913\u001b[0m \u001b[0;34m\u001b[0m\u001b[0m\n\u001b[1;32m    914\u001b[0m \u001b[0;34m\u001b[0m\u001b[0m\n",
            "\u001b[0;32m/usr/local/lib/python3.10/dist-packages/pandas/io/parsers/readers.py\u001b[0m in \u001b[0;36m_read\u001b[0;34m(filepath_or_buffer, kwds)\u001b[0m\n\u001b[1;32m    575\u001b[0m \u001b[0;34m\u001b[0m\u001b[0m\n\u001b[1;32m    576\u001b[0m     \u001b[0;31m# Create the parser.\u001b[0m\u001b[0;34m\u001b[0m\u001b[0;34m\u001b[0m\u001b[0m\n\u001b[0;32m--> 577\u001b[0;31m     \u001b[0mparser\u001b[0m \u001b[0;34m=\u001b[0m \u001b[0mTextFileReader\u001b[0m\u001b[0;34m(\u001b[0m\u001b[0mfilepath_or_buffer\u001b[0m\u001b[0;34m,\u001b[0m \u001b[0;34m**\u001b[0m\u001b[0mkwds\u001b[0m\u001b[0;34m)\u001b[0m\u001b[0;34m\u001b[0m\u001b[0;34m\u001b[0m\u001b[0m\n\u001b[0m\u001b[1;32m    578\u001b[0m \u001b[0;34m\u001b[0m\u001b[0m\n\u001b[1;32m    579\u001b[0m     \u001b[0;32mif\u001b[0m \u001b[0mchunksize\u001b[0m \u001b[0;32mor\u001b[0m \u001b[0miterator\u001b[0m\u001b[0;34m:\u001b[0m\u001b[0;34m\u001b[0m\u001b[0;34m\u001b[0m\u001b[0m\n",
            "\u001b[0;32m/usr/local/lib/python3.10/dist-packages/pandas/io/parsers/readers.py\u001b[0m in \u001b[0;36m__init__\u001b[0;34m(self, f, engine, **kwds)\u001b[0m\n\u001b[1;32m   1405\u001b[0m \u001b[0;34m\u001b[0m\u001b[0m\n\u001b[1;32m   1406\u001b[0m         \u001b[0mself\u001b[0m\u001b[0;34m.\u001b[0m\u001b[0mhandles\u001b[0m\u001b[0;34m:\u001b[0m \u001b[0mIOHandles\u001b[0m \u001b[0;34m|\u001b[0m \u001b[0;32mNone\u001b[0m \u001b[0;34m=\u001b[0m \u001b[0;32mNone\u001b[0m\u001b[0;34m\u001b[0m\u001b[0;34m\u001b[0m\u001b[0m\n\u001b[0;32m-> 1407\u001b[0;31m         \u001b[0mself\u001b[0m\u001b[0;34m.\u001b[0m\u001b[0m_engine\u001b[0m \u001b[0;34m=\u001b[0m \u001b[0mself\u001b[0m\u001b[0;34m.\u001b[0m\u001b[0m_make_engine\u001b[0m\u001b[0;34m(\u001b[0m\u001b[0mf\u001b[0m\u001b[0;34m,\u001b[0m \u001b[0mself\u001b[0m\u001b[0;34m.\u001b[0m\u001b[0mengine\u001b[0m\u001b[0;34m)\u001b[0m\u001b[0;34m\u001b[0m\u001b[0;34m\u001b[0m\u001b[0m\n\u001b[0m\u001b[1;32m   1408\u001b[0m \u001b[0;34m\u001b[0m\u001b[0m\n\u001b[1;32m   1409\u001b[0m     \u001b[0;32mdef\u001b[0m \u001b[0mclose\u001b[0m\u001b[0;34m(\u001b[0m\u001b[0mself\u001b[0m\u001b[0;34m)\u001b[0m \u001b[0;34m->\u001b[0m \u001b[0;32mNone\u001b[0m\u001b[0;34m:\u001b[0m\u001b[0;34m\u001b[0m\u001b[0;34m\u001b[0m\u001b[0m\n",
            "\u001b[0;32m/usr/local/lib/python3.10/dist-packages/pandas/io/parsers/readers.py\u001b[0m in \u001b[0;36m_make_engine\u001b[0;34m(self, f, engine)\u001b[0m\n\u001b[1;32m   1659\u001b[0m                 \u001b[0;32mif\u001b[0m \u001b[0;34m\"b\"\u001b[0m \u001b[0;32mnot\u001b[0m \u001b[0;32min\u001b[0m \u001b[0mmode\u001b[0m\u001b[0;34m:\u001b[0m\u001b[0;34m\u001b[0m\u001b[0;34m\u001b[0m\u001b[0m\n\u001b[1;32m   1660\u001b[0m                     \u001b[0mmode\u001b[0m \u001b[0;34m+=\u001b[0m \u001b[0;34m\"b\"\u001b[0m\u001b[0;34m\u001b[0m\u001b[0;34m\u001b[0m\u001b[0m\n\u001b[0;32m-> 1661\u001b[0;31m             self.handles = get_handle(\n\u001b[0m\u001b[1;32m   1662\u001b[0m                 \u001b[0mf\u001b[0m\u001b[0;34m,\u001b[0m\u001b[0;34m\u001b[0m\u001b[0;34m\u001b[0m\u001b[0m\n\u001b[1;32m   1663\u001b[0m                 \u001b[0mmode\u001b[0m\u001b[0;34m,\u001b[0m\u001b[0;34m\u001b[0m\u001b[0;34m\u001b[0m\u001b[0m\n",
            "\u001b[0;32m/usr/local/lib/python3.10/dist-packages/pandas/io/common.py\u001b[0m in \u001b[0;36mget_handle\u001b[0;34m(path_or_buf, mode, encoding, compression, memory_map, is_text, errors, storage_options)\u001b[0m\n\u001b[1;32m    857\u001b[0m         \u001b[0;32mif\u001b[0m \u001b[0mioargs\u001b[0m\u001b[0;34m.\u001b[0m\u001b[0mencoding\u001b[0m \u001b[0;32mand\u001b[0m \u001b[0;34m\"b\"\u001b[0m \u001b[0;32mnot\u001b[0m \u001b[0;32min\u001b[0m \u001b[0mioargs\u001b[0m\u001b[0;34m.\u001b[0m\u001b[0mmode\u001b[0m\u001b[0;34m:\u001b[0m\u001b[0;34m\u001b[0m\u001b[0;34m\u001b[0m\u001b[0m\n\u001b[1;32m    858\u001b[0m             \u001b[0;31m# Encoding\u001b[0m\u001b[0;34m\u001b[0m\u001b[0;34m\u001b[0m\u001b[0m\n\u001b[0;32m--> 859\u001b[0;31m             handle = open(\n\u001b[0m\u001b[1;32m    860\u001b[0m                 \u001b[0mhandle\u001b[0m\u001b[0;34m,\u001b[0m\u001b[0;34m\u001b[0m\u001b[0;34m\u001b[0m\u001b[0m\n\u001b[1;32m    861\u001b[0m                 \u001b[0mioargs\u001b[0m\u001b[0;34m.\u001b[0m\u001b[0mmode\u001b[0m\u001b[0;34m,\u001b[0m\u001b[0;34m\u001b[0m\u001b[0;34m\u001b[0m\u001b[0m\n",
            "\u001b[0;31mFileNotFoundError\u001b[0m: [Errno 2] No such file or directory: 'facility_data.csv'"
          ]
        }
      ]
    }
  ]
}